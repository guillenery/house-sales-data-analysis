{
 "cells": [
  {
   "cell_type": "markdown",
   "id": "49530bf7",
   "metadata": {},
   "source": [
    "# 0. Imports"
   ]
  },
  {
   "cell_type": "code",
   "execution_count": 1,
   "id": "64d2d0f6",
   "metadata": {
    "ExecuteTime": {
     "end_time": "2021-12-18T18:50:54.421950Z",
     "start_time": "2021-12-18T18:50:53.761173Z"
    }
   },
   "outputs": [],
   "source": [
    "import pandas as pd\n",
    "import requests as r\n",
    "import numpy as np\n",
    "from matplotlib import pyplot as plt\n",
    "from matplotlib import gridspec\n",
    "import plotly.express as px\n",
    "import ipywidgets as widgets\n",
    "from ipywidgets import fixed\n",
    "import streamlit\n",
    "import html"
   ]
  },
  {
   "cell_type": "code",
   "execution_count": 2,
   "id": "b3164d34",
   "metadata": {
    "ExecuteTime": {
     "end_time": "2021-12-18T18:50:54.451260Z",
     "start_time": "2021-12-18T18:50:54.422621Z"
    }
   },
   "outputs": [],
   "source": [
    "data = pd.read_csv('data/kc_house_data.csv')"
   ]
  },
  {
   "cell_type": "markdown",
   "id": "8453aaf4",
   "metadata": {},
   "source": [
    "# 1. Data Preparation"
   ]
  },
  {
   "cell_type": "markdown",
   "id": "658d2aa1",
   "metadata": {
    "ExecuteTime": {
     "end_time": "2021-10-19T10:17:50.184830Z",
     "start_time": "2021-10-19T10:17:50.182539Z"
    },
    "heading_collapsed": true
   },
   "source": [
    "## 1.1 Adjusting Datatypes"
   ]
  },
  {
   "cell_type": "markdown",
   "id": "71c78887",
   "metadata": {
    "hidden": true
   },
   "source": [
    "This very important step is to guarantee that data is being interpreted correctly from now on."
   ]
  },
  {
   "cell_type": "code",
   "execution_count": 3,
   "id": "c554c9b9",
   "metadata": {
    "ExecuteTime": {
     "end_time": "2021-12-18T18:50:54.454584Z",
     "start_time": "2021-12-18T18:50:54.452407Z"
    },
    "hidden": true
   },
   "outputs": [],
   "source": [
    "#Copy the dataframe to preserve raw data\n",
    "df1 = data.copy()"
   ]
  },
  {
   "cell_type": "code",
   "execution_count": 4,
   "id": "5b4065aa",
   "metadata": {
    "ExecuteTime": {
     "end_time": "2021-12-18T18:50:54.458401Z",
     "start_time": "2021-12-18T18:50:54.455202Z"
    },
    "hidden": true
   },
   "outputs": [
    {
     "data": {
      "text/plain": [
       "id                 int64\n",
       "date              object\n",
       "price            float64\n",
       "bedrooms           int64\n",
       "bathrooms        float64\n",
       "sqft_living        int64\n",
       "sqft_lot           int64\n",
       "floors           float64\n",
       "waterfront         int64\n",
       "view               int64\n",
       "condition          int64\n",
       "grade              int64\n",
       "sqft_above         int64\n",
       "sqft_basement      int64\n",
       "yr_built           int64\n",
       "yr_renovated       int64\n",
       "zipcode            int64\n",
       "lat              float64\n",
       "long             float64\n",
       "sqft_living15      int64\n",
       "sqft_lot15         int64\n",
       "dtype: object"
      ]
     },
     "execution_count": 4,
     "metadata": {},
     "output_type": "execute_result"
    }
   ],
   "source": [
    "#Check the datatypes\n",
    "df1.dtypes"
   ]
  },
  {
   "cell_type": "code",
   "execution_count": 5,
   "id": "c0dd0278",
   "metadata": {
    "ExecuteTime": {
     "end_time": "2021-12-18T18:50:54.476149Z",
     "start_time": "2021-12-18T18:50:54.459098Z"
    },
    "hidden": true
   },
   "outputs": [],
   "source": [
    "#need to adjust dates from object to date\n",
    "df1['date'] =  pd.to_datetime( df1['date'], format='%Y-%m-%d' )\n",
    "#the IDs, even though being numbers, should behave as strings\n",
    "df1['id'] = df1['id'].astype(str)\n",
    "#same for zip codes\n",
    "df1['zipcode'] = df1['zipcode'].astype(str)"
   ]
  },
  {
   "cell_type": "code",
   "execution_count": 6,
   "id": "5c446f19",
   "metadata": {
    "ExecuteTime": {
     "end_time": "2021-12-18T18:50:54.479259Z",
     "start_time": "2021-12-18T18:50:54.476784Z"
    },
    "hidden": true
   },
   "outputs": [
    {
     "data": {
      "text/plain": [
       "id                       object\n",
       "date             datetime64[ns]\n",
       "price                   float64\n",
       "bedrooms                  int64\n",
       "bathrooms               float64\n",
       "sqft_living               int64\n",
       "sqft_lot                  int64\n",
       "floors                  float64\n",
       "waterfront                int64\n",
       "view                      int64\n",
       "condition                 int64\n",
       "grade                     int64\n",
       "sqft_above                int64\n",
       "sqft_basement             int64\n",
       "yr_built                  int64\n",
       "yr_renovated              int64\n",
       "zipcode                  object\n",
       "lat                     float64\n",
       "long                    float64\n",
       "sqft_living15             int64\n",
       "sqft_lot15                int64\n",
       "dtype: object"
      ]
     },
     "execution_count": 6,
     "metadata": {},
     "output_type": "execute_result"
    }
   ],
   "source": [
    "#See if it is correct now\n",
    "df1.dtypes"
   ]
  },
  {
   "cell_type": "code",
   "execution_count": 7,
   "id": "c72da10b",
   "metadata": {
    "ExecuteTime": {
     "end_time": "2021-12-18T18:50:54.481262Z",
     "start_time": "2021-12-18T18:50:54.479913Z"
    },
    "hidden": true
   },
   "outputs": [],
   "source": [
    "# Supress Scientific Notation\n",
    "np.set_printoptions(suppress=True)\n",
    "pd.set_option('display.float_format', '{:.2f}'.format)"
   ]
  },
  {
   "cell_type": "markdown",
   "id": "3286efc1",
   "metadata": {},
   "source": [
    "# 2. Tasks and Business Questions"
   ]
  },
  {
   "cell_type": "markdown",
   "id": "bf0cdedb",
   "metadata": {},
   "source": [
    "<p> These are some simulated questions and tasks one can usually perform in data analysis projects. </p>\n",
    "<p> Feel free to use as a reference </p>\n"
   ]
  },
  {
   "cell_type": "markdown",
   "id": "5ce321af",
   "metadata": {
    "ExecuteTime": {
     "end_time": "2021-12-18T15:01:54.462440Z",
     "start_time": "2021-12-18T15:01:54.456779Z"
    },
    "heading_collapsed": true
   },
   "source": [
    "## 2.1 Basic Operations Tasks"
   ]
  },
  {
   "cell_type": "markdown",
   "id": "ff4a771a",
   "metadata": {
    "ExecuteTime": {
     "end_time": "2021-12-18T16:01:37.035658Z",
     "start_time": "2021-12-18T16:01:37.031170Z"
    },
    "hidden": true
   },
   "source": [
    "### 2.1.1 How many houses are available for purchase?"
   ]
  },
  {
   "cell_type": "code",
   "execution_count": 8,
   "id": "1f5a99ec",
   "metadata": {
    "ExecuteTime": {
     "end_time": "2021-12-18T18:50:54.487711Z",
     "start_time": "2021-12-18T18:50:54.483883Z"
    },
    "hidden": true
   },
   "outputs": [
    {
     "name": "stdout",
     "output_type": "stream",
     "text": [
      "There are 21436 available houses for sale.\n"
     ]
    }
   ],
   "source": [
    "#Considering that the 'id' column goes for a unique identifier, we should count them\n",
    "unique_houses = df1['id'].nunique()\n",
    "\n",
    "print ('There are {} available houses for sale.'.format(unique_houses))"
   ]
  },
  {
   "cell_type": "markdown",
   "id": "3897cbb6",
   "metadata": {
    "hidden": true
   },
   "source": [
    "### 2.1.2 How many attributes do the houses have?"
   ]
  },
  {
   "cell_type": "code",
   "execution_count": 9,
   "id": "300b5a18",
   "metadata": {
    "ExecuteTime": {
     "end_time": "2021-12-18T18:50:54.490778Z",
     "start_time": "2021-12-18T18:50:54.488395Z"
    },
    "hidden": true
   },
   "outputs": [
    {
     "name": "stdout",
     "output_type": "stream",
     "text": [
      "There are 19 different attributes\n"
     ]
    }
   ],
   "source": [
    "#Considering that 'id' and 'date' are not actually attributes\n",
    "num_attributes = len (df1.columns) - 2\n",
    "\n",
    "print ('There are {} different attributes'.format (num_attributes))"
   ]
  },
  {
   "cell_type": "markdown",
   "id": "b971ef36",
   "metadata": {
    "hidden": true
   },
   "source": [
    "### 2.1.3 What attributes are those?"
   ]
  },
  {
   "cell_type": "code",
   "execution_count": 10,
   "id": "b543a2eb",
   "metadata": {
    "ExecuteTime": {
     "end_time": "2021-12-18T18:50:54.494739Z",
     "start_time": "2021-12-18T18:50:54.491448Z"
    },
    "hidden": true
   },
   "outputs": [
    {
     "name": "stdout",
     "output_type": "stream",
     "text": [
      "['price', 'bedrooms', 'bathrooms', 'sqft_living', 'sqft_lot', 'floors', 'waterfront', 'view', 'condition', 'grade', 'sqft_above', 'sqft_basement', 'yr_built', 'yr_renovated', 'zipcode', 'lat', 'long', 'sqft_living15', 'sqft_lot15']\n"
     ]
    }
   ],
   "source": [
    "# I will drop the 'id' and 'date' columns and show the remaining ones.\n",
    "df2 = df1.drop(['id', 'date'], axis = 1)\n",
    "\n",
    "print (df2.columns.tolist())"
   ]
  },
  {
   "cell_type": "markdown",
   "id": "87d8ff24",
   "metadata": {
    "hidden": true
   },
   "source": [
    "### 2.1.4 What is the most expensive house?"
   ]
  },
  {
   "cell_type": "code",
   "execution_count": 11,
   "id": "66eb45bc",
   "metadata": {
    "ExecuteTime": {
     "end_time": "2021-12-18T18:50:54.500467Z",
     "start_time": "2021-12-18T18:50:54.495358Z"
    },
    "hidden": true
   },
   "outputs": [
    {
     "name": "stdout",
     "output_type": "stream",
     "text": [
      "The most expensive house is the one which ID is 7129300520.\n"
     ]
    }
   ],
   "source": [
    "#Here, we should tell not only the maximum price, but also the corresponding ID.\n",
    "#So, first, I will order the dataframe according to the price.\n",
    "df2 = df1[['id', 'price']].sort_values ('price', ascending = False)\n",
    "\n",
    "#Now, I will locate the first item in the data frame, that should be the answer to this question\n",
    "most_expensive = df2.loc[0,'id']\n",
    "\n",
    "print ('The most expensive house is the one which ID is {}.'.format(most_expensive))"
   ]
  },
  {
   "cell_type": "markdown",
   "id": "3bfccefa",
   "metadata": {
    "hidden": true
   },
   "source": [
    "### 2.1.5 Which house has the most bedrooms?"
   ]
  },
  {
   "cell_type": "code",
   "execution_count": 12,
   "id": "a80b42b0",
   "metadata": {
    "ExecuteTime": {
     "end_time": "2021-12-18T18:50:54.506672Z",
     "start_time": "2021-12-18T18:50:54.501171Z"
    },
    "hidden": true
   },
   "outputs": [
    {
     "data": {
      "text/html": [
       "<div>\n",
       "<style scoped>\n",
       "    .dataframe tbody tr th:only-of-type {\n",
       "        vertical-align: middle;\n",
       "    }\n",
       "\n",
       "    .dataframe tbody tr th {\n",
       "        vertical-align: top;\n",
       "    }\n",
       "\n",
       "    .dataframe thead th {\n",
       "        text-align: right;\n",
       "    }\n",
       "</style>\n",
       "<table border=\"1\" class=\"dataframe\">\n",
       "  <thead>\n",
       "    <tr style=\"text-align: right;\">\n",
       "      <th></th>\n",
       "      <th>id</th>\n",
       "      <th>bedrooms</th>\n",
       "    </tr>\n",
       "  </thead>\n",
       "  <tbody>\n",
       "    <tr>\n",
       "      <th>15870</th>\n",
       "      <td>2402100895</td>\n",
       "      <td>33</td>\n",
       "    </tr>\n",
       "  </tbody>\n",
       "</table>\n",
       "</div>"
      ],
      "text/plain": [
       "               id  bedrooms\n",
       "15870  2402100895        33"
      ]
     },
     "execution_count": 12,
     "metadata": {},
     "output_type": "execute_result"
    }
   ],
   "source": [
    "#First, we simplify selecting the 'id' and 'bedrooms' columns\n",
    "df2 = df1[['id','bedrooms']]\n",
    "\n",
    "#Now, let's get what is the highest number os bedrooms a house can have.\n",
    "max_bedrooms = df2['bedrooms'].max()\n",
    "\n",
    "# It is prudent to suspect that more than one house can have the maximum number os bedrooms\n",
    "# So, now we filter according to max_bedrooms\n",
    "max_bedrooms_houses = df2.loc[df2['bedrooms'] == max_bedrooms, :]\n",
    "max_bedrooms_houses\n"
   ]
  },
  {
   "cell_type": "markdown",
   "id": "ed68f42e",
   "metadata": {
    "hidden": true
   },
   "source": [
    "### 2.1.6 How many bedrooms are there available in the dataset?"
   ]
  },
  {
   "cell_type": "code",
   "execution_count": 13,
   "id": "8c672ac4",
   "metadata": {
    "ExecuteTime": {
     "end_time": "2021-12-18T18:50:54.509030Z",
     "start_time": "2021-12-18T18:50:54.507283Z"
    },
    "hidden": true
   },
   "outputs": [
    {
     "name": "stdout",
     "output_type": "stream",
     "text": [
      "The number of bedrooms in the dataset is 72854\n"
     ]
    }
   ],
   "source": [
    "# Let's sum the bedrooms column\n",
    "print ('The number of bedrooms in the dataset is {}'.format(df1['bedrooms'].sum()))"
   ]
  },
  {
   "cell_type": "markdown",
   "id": "0e148978",
   "metadata": {
    "hidden": true
   },
   "source": [
    "### 2.1.7 How many houses have 2 bathrooms?"
   ]
  },
  {
   "cell_type": "code",
   "execution_count": 14,
   "id": "b6ed8610",
   "metadata": {
    "ExecuteTime": {
     "end_time": "2021-12-18T18:50:54.512725Z",
     "start_time": "2021-12-18T18:50:54.509612Z"
    },
    "hidden": true
   },
   "outputs": [
    {
     "name": "stdout",
     "output_type": "stream",
     "text": [
      "There are 1913 houses with 2 bathrooms\n"
     ]
    }
   ],
   "source": [
    "#First, let's find and reduce the dataset using the condition \n",
    "df2 = df1.loc[df1['bathrooms'] == 2, :]\n",
    "\n",
    "#Important: Let's avoid duplicated IDs using the nunique method to count the houses.\n",
    "print('There are {} houses with 2 bathrooms'.format(df2['id'].nunique()))"
   ]
  },
  {
   "cell_type": "markdown",
   "id": "0a44a106",
   "metadata": {
    "hidden": true
   },
   "source": [
    "### 2.1.8 What is the average house price in the dataset?"
   ]
  },
  {
   "cell_type": "code",
   "execution_count": 15,
   "id": "79769bf9",
   "metadata": {
    "ExecuteTime": {
     "end_time": "2021-12-18T18:50:54.515816Z",
     "start_time": "2021-12-18T18:50:54.513357Z"
    },
    "hidden": true
   },
   "outputs": [
    {
     "name": "stdout",
     "output_type": "stream",
     "text": [
      "The average price is $ 540088.14\n"
     ]
    }
   ],
   "source": [
    "# Calculate the average value for the 'price' column\n",
    "avg_price = np.round(df1['price'].mean(), 2)\n",
    "\n",
    "print ('The average price is $ {}'.format(avg_price))"
   ]
  },
  {
   "cell_type": "markdown",
   "id": "2adb35fd",
   "metadata": {
    "hidden": true
   },
   "source": [
    "### 2.1.9 What is the average house price for homes with 2 bathrooms?"
   ]
  },
  {
   "cell_type": "code",
   "execution_count": 16,
   "id": "b343c074",
   "metadata": {
    "ExecuteTime": {
     "end_time": "2021-12-18T18:50:54.519661Z",
     "start_time": "2021-12-18T18:50:54.516605Z"
    },
    "hidden": true
   },
   "outputs": [
    {
     "name": "stdout",
     "output_type": "stream",
     "text": [
      "There average price is $457889.72 for houses with 2 bathrooms\n"
     ]
    }
   ],
   "source": [
    "# First, select the houses with 2 bathrooms.\n",
    "df2 = df1.loc[data['bathrooms'] == 2, :]\n",
    "\n",
    "# Now, we find the average price.\n",
    "avg_price = np.round(df2['price'].mean(), 2)\n",
    "\n",
    "\n",
    "print ('There average price is ${} for houses with 2 bathrooms'.format(avg_price))"
   ]
  },
  {
   "cell_type": "markdown",
   "id": "0c9814cb",
   "metadata": {
    "hidden": true
   },
   "source": [
    "### 2.1.10 What is the minimum price among houses with 3 bedrooms?"
   ]
  },
  {
   "cell_type": "code",
   "execution_count": 17,
   "id": "847a9a6a",
   "metadata": {
    "ExecuteTime": {
     "end_time": "2021-12-18T18:50:54.523140Z",
     "start_time": "2021-12-18T18:50:54.520361Z"
    },
    "hidden": true
   },
   "outputs": [
    {
     "name": "stdout",
     "output_type": "stream",
     "text": [
      "The minimum price is $78000.0 for houses with 3 bedrooms\n"
     ]
    }
   ],
   "source": [
    "# First, select the houses with 3 bedrooms\n",
    "df2 = df1.loc[df1['bedrooms'] == 2, :]\n",
    "\n",
    "#Now we find the minimum price.\n",
    "min_price = df2['price'].min()\n",
    "\n",
    "print ('The minimum price is ${} for houses with 3 bedrooms'.format(min_price))"
   ]
  },
  {
   "cell_type": "markdown",
   "id": "b56c3aa3",
   "metadata": {
    "hidden": true
   },
   "source": [
    "### 2.1.11 How many houses have over 300 square meters in the living room?"
   ]
  },
  {
   "cell_type": "code",
   "execution_count": 18,
   "id": "a155553d",
   "metadata": {
    "ExecuteTime": {
     "end_time": "2021-12-18T18:50:54.526681Z",
     "start_time": "2021-12-18T18:50:54.523761Z"
    },
    "hidden": true
   },
   "outputs": [
    {
     "name": "stdout",
     "output_type": "stream",
     "text": [
      "There are 2251 houses with living rooms over 300 m2\n"
     ]
    }
   ],
   "source": [
    "#First, we select the houses with over 300 square meters in the living room\n",
    "#Important: 300 m2 = 3229 sqft\n",
    "df2 = df1.loc[df1['sqft_living'] > 3229]\n",
    "\n",
    "#Now, we count\n",
    "print('There are {} houses with living rooms over 300 m2'.format(df2['id'].nunique()))"
   ]
  },
  {
   "cell_type": "markdown",
   "id": "5eb9f523",
   "metadata": {
    "hidden": true
   },
   "source": [
    "### 2.1.12 How many houses have over 2 floors?"
   ]
  },
  {
   "cell_type": "code",
   "execution_count": 19,
   "id": "9eba99a7",
   "metadata": {
    "ExecuteTime": {
     "end_time": "2021-12-18T18:50:54.529693Z",
     "start_time": "2021-12-18T18:50:54.527237Z"
    },
    "hidden": true
   },
   "outputs": [
    {
     "name": "stdout",
     "output_type": "stream",
     "text": [
      "There are 780 houses with over 2 floors.\n"
     ]
    }
   ],
   "source": [
    "# First, select houses with 'floors' > 2.\n",
    "df2 = df1.loc[df1['floors'] > 2]\n",
    "\n",
    "# Count the number of unique IDs remaining.\n",
    "print ('There are {} houses with over 2 floors.'.format(df2['id'].nunique()))"
   ]
  },
  {
   "cell_type": "markdown",
   "id": "ef78cfb9",
   "metadata": {
    "hidden": true
   },
   "source": [
    "### 2.1.13 How many houses are waterfront?"
   ]
  },
  {
   "cell_type": "code",
   "execution_count": 20,
   "id": "caf30d17",
   "metadata": {
    "ExecuteTime": {
     "end_time": "2021-12-18T18:50:54.533168Z",
     "start_time": "2021-12-18T18:50:54.530355Z"
    },
    "hidden": true
   },
   "outputs": [
    {
     "name": "stdout",
     "output_type": "stream",
     "text": [
      "There are 163 waterfront houses in the dataframe\n"
     ]
    }
   ],
   "source": [
    "# First, select houses with 'waterfront' =1.\n",
    "df2 = df1.loc[df1['waterfront'] == 1]\n",
    "\n",
    "# Count the number of unique IDs remaining.\n",
    "print ('There are {} waterfront houses in the dataframe'.format(df2['id'].nunique()))"
   ]
  },
  {
   "cell_type": "markdown",
   "id": "66496f3d",
   "metadata": {
    "hidden": true
   },
   "source": [
    "### 2.1.14 From these waterfront houses, how many have 3 bedrooms?"
   ]
  },
  {
   "cell_type": "code",
   "execution_count": 21,
   "id": "c8e15658",
   "metadata": {
    "ExecuteTime": {
     "end_time": "2021-12-18T18:50:54.536565Z",
     "start_time": "2021-12-18T18:50:54.533856Z"
    },
    "hidden": true
   },
   "outputs": [
    {
     "name": "stdout",
     "output_type": "stream",
     "text": [
      "There are 64 waterfront houses with 3 bedrooms\n"
     ]
    }
   ],
   "source": [
    "# First, select houses with 'waterfront' = 1 AND 'bedrooms' = 3.\n",
    "df2 = df1.loc[(df1['waterfront'] == 1) & (df1['bedrooms'] == 3)]\n",
    "\n",
    "# Count the number of unique IDs remaining\n",
    "print ('There are {} waterfront houses with 3 bedrooms'.format(df2['id'].nunique()))"
   ]
  },
  {
   "cell_type": "markdown",
   "id": "030cddb0",
   "metadata": {
    "hidden": true
   },
   "source": [
    "### 2.1.15 From the houses that have living rooms over 300 square meters, how many have more than 2 bathrooms?"
   ]
  },
  {
   "cell_type": "code",
   "execution_count": 22,
   "id": "ca2c0455",
   "metadata": {
    "ExecuteTime": {
     "end_time": "2021-12-18T18:50:54.540345Z",
     "start_time": "2021-12-18T18:50:54.537237Z"
    },
    "hidden": true
   },
   "outputs": [
    {
     "name": "stdout",
     "output_type": "stream",
     "text": [
      "There are 2194 houses with living rooms larger than 300 square meters and more than 2 bathrooms\n"
     ]
    }
   ],
   "source": [
    "#First, select houses with over 300 square meters in their living rooms and more than 2 bathrooms\n",
    "#Important: 300 m2 = 3229 sqft\n",
    "df2 = df1.loc[((df1['sqft_living'] > 3229) & (df1['bathrooms'] > 2))]\n",
    "\n",
    "#Count the number os unique IDs remaining\n",
    "print ('There are {} houses with living rooms larger than 300 square meters and more than 2 bathrooms'.format(df2['id'].nunique()))\n",
    "\n"
   ]
  },
  {
   "cell_type": "markdown",
   "id": "628e40bb",
   "metadata": {},
   "source": [
    "## 2.2 Data Manipulation Tasks"
   ]
  },
  {
   "cell_type": "markdown",
   "id": "41fd40d3",
   "metadata": {},
   "source": [
    "### 2.2.0 Checkpoint"
   ]
  },
  {
   "cell_type": "code",
   "execution_count": 23,
   "id": "bc8a06dd",
   "metadata": {
    "ExecuteTime": {
     "end_time": "2021-12-18T18:50:54.545398Z",
     "start_time": "2021-12-18T18:50:54.543673Z"
    }
   },
   "outputs": [],
   "source": [
    "df2 = df1.copy()"
   ]
  },
  {
   "cell_type": "markdown",
   "id": "c974242d",
   "metadata": {},
   "source": [
    "### 2.2.1 Create a new column called \"house_age\""
   ]
  },
  {
   "cell_type": "markdown",
   "id": "a0650fc6",
   "metadata": {
    "ExecuteTime": {
     "end_time": "2021-12-18T18:11:38.491724Z",
     "start_time": "2021-12-18T18:11:38.472086Z"
    }
   },
   "source": [
    "<ul>\n",
    "<li>If 'date' is equal or later than 2015-01-01 -> \"new_house\"</li>\n",
    "<li>If 'date' is earlier than 2015-01-01 -> \"old_house\"</li>\n",
    "</ul>"
   ]
  },
  {
   "cell_type": "code",
   "execution_count": 24,
   "id": "c8ff3ace",
   "metadata": {
    "ExecuteTime": {
     "end_time": "2021-12-18T18:50:54.553695Z",
     "start_time": "2021-12-18T18:50:54.545960Z"
    }
   },
   "outputs": [
    {
     "data": {
      "text/html": [
       "<div>\n",
       "<style scoped>\n",
       "    .dataframe tbody tr th:only-of-type {\n",
       "        vertical-align: middle;\n",
       "    }\n",
       "\n",
       "    .dataframe tbody tr th {\n",
       "        vertical-align: top;\n",
       "    }\n",
       "\n",
       "    .dataframe thead th {\n",
       "        text-align: right;\n",
       "    }\n",
       "</style>\n",
       "<table border=\"1\" class=\"dataframe\">\n",
       "  <thead>\n",
       "    <tr style=\"text-align: right;\">\n",
       "      <th></th>\n",
       "      <th>id</th>\n",
       "      <th>date</th>\n",
       "      <th>house_age</th>\n",
       "    </tr>\n",
       "  </thead>\n",
       "  <tbody>\n",
       "    <tr>\n",
       "      <th>5582</th>\n",
       "      <td>537000130</td>\n",
       "      <td>2014-09-08</td>\n",
       "      <td>old_house</td>\n",
       "    </tr>\n",
       "    <tr>\n",
       "      <th>11151</th>\n",
       "      <td>9412700550</td>\n",
       "      <td>2014-05-21</td>\n",
       "      <td>old_house</td>\n",
       "    </tr>\n",
       "    <tr>\n",
       "      <th>17311</th>\n",
       "      <td>8807900233</td>\n",
       "      <td>2014-06-30</td>\n",
       "      <td>old_house</td>\n",
       "    </tr>\n",
       "    <tr>\n",
       "      <th>11992</th>\n",
       "      <td>11520370</td>\n",
       "      <td>2014-12-29</td>\n",
       "      <td>old_house</td>\n",
       "    </tr>\n",
       "    <tr>\n",
       "      <th>4166</th>\n",
       "      <td>438000025</td>\n",
       "      <td>2014-05-13</td>\n",
       "      <td>old_house</td>\n",
       "    </tr>\n",
       "  </tbody>\n",
       "</table>\n",
       "</div>"
      ],
      "text/plain": [
       "               id       date  house_age\n",
       "5582    537000130 2014-09-08  old_house\n",
       "11151  9412700550 2014-05-21  old_house\n",
       "17311  8807900233 2014-06-30  old_house\n",
       "11992    11520370 2014-12-29  old_house\n",
       "4166    438000025 2014-05-13  old_house"
      ]
     },
     "execution_count": 24,
     "metadata": {},
     "output_type": "execute_result"
    }
   ],
   "source": [
    "#First, create a new column called \"house_age\", and fill it with NAs\n",
    "df2['house_age'] = 'NA'\n",
    "df2.loc[df2['date'] >= '2015-01-01', 'house_age'] = 'new_house'\n",
    "df2.loc[df2['date'] < '2015-01-01', 'house_age'] = 'old_house'\n",
    "df2[['id', 'date','house_age']].sample(5)"
   ]
  },
  {
   "cell_type": "markdown",
   "id": "eb990b1d",
   "metadata": {
    "ExecuteTime": {
     "end_time": "2021-10-19T10:23:11.280593Z",
     "start_time": "2021-10-19T10:23:11.278313Z"
    }
   },
   "source": [
    "### 2.2.2 Create a new column called dormitory type"
   ]
  },
  {
   "cell_type": "markdown",
   "id": "ec1e8624",
   "metadata": {},
   "source": [
    "The mission is to evaluate the apartament type according to the number os bedrooms. <br>\n",
    "Criteria:</br>\n",
    "<ul>\n",
    "    <li>0 or 1 dormitory -> studio</li>\n",
    "    <li>2 dormitories -> apartment</li>\n",
    "    <li>more than 2 dormitories -> house</li>\n",
    "</ul>"
   ]
  },
  {
   "cell_type": "code",
   "execution_count": 25,
   "id": "9f0e757b",
   "metadata": {
    "ExecuteTime": {
     "end_time": "2021-12-18T18:50:54.561700Z",
     "start_time": "2021-12-18T18:50:54.554455Z"
    },
    "scrolled": true
   },
   "outputs": [
    {
     "data": {
      "text/html": [
       "<div>\n",
       "<style scoped>\n",
       "    .dataframe tbody tr th:only-of-type {\n",
       "        vertical-align: middle;\n",
       "    }\n",
       "\n",
       "    .dataframe tbody tr th {\n",
       "        vertical-align: top;\n",
       "    }\n",
       "\n",
       "    .dataframe thead th {\n",
       "        text-align: right;\n",
       "    }\n",
       "</style>\n",
       "<table border=\"1\" class=\"dataframe\">\n",
       "  <thead>\n",
       "    <tr style=\"text-align: right;\">\n",
       "      <th></th>\n",
       "      <th>id</th>\n",
       "      <th>bedrooms</th>\n",
       "      <th>dormitory_type</th>\n",
       "    </tr>\n",
       "  </thead>\n",
       "  <tbody>\n",
       "    <tr>\n",
       "      <th>21046</th>\n",
       "      <td>1773100604</td>\n",
       "      <td>3</td>\n",
       "      <td>house</td>\n",
       "    </tr>\n",
       "    <tr>\n",
       "      <th>19601</th>\n",
       "      <td>522059189</td>\n",
       "      <td>3</td>\n",
       "      <td>house</td>\n",
       "    </tr>\n",
       "    <tr>\n",
       "      <th>7277</th>\n",
       "      <td>6145602125</td>\n",
       "      <td>3</td>\n",
       "      <td>house</td>\n",
       "    </tr>\n",
       "    <tr>\n",
       "      <th>5377</th>\n",
       "      <td>1737300130</td>\n",
       "      <td>6</td>\n",
       "      <td>house</td>\n",
       "    </tr>\n",
       "    <tr>\n",
       "      <th>6902</th>\n",
       "      <td>5249801440</td>\n",
       "      <td>3</td>\n",
       "      <td>house</td>\n",
       "    </tr>\n",
       "  </tbody>\n",
       "</table>\n",
       "</div>"
      ],
      "text/plain": [
       "               id  bedrooms dormitory_type\n",
       "21046  1773100604         3          house\n",
       "19601   522059189         3          house\n",
       "7277   6145602125         3          house\n",
       "5377   1737300130         6          house\n",
       "6902   5249801440         3          house"
      ]
     },
     "execution_count": 25,
     "metadata": {},
     "output_type": "execute_result"
    }
   ],
   "source": [
    "#First, I call every place 'house' in a new columns called dormitory_type\n",
    "#Then, for the conditions above, I apply the conditions as below\n",
    "df2['dormitory_type'] = 'house'\n",
    "df2.loc[df2['bedrooms'] <= 1, 'dormitory_type'] = 'studio'\n",
    "df2.loc[df2['bedrooms'] == 2, 'dormitory_type'] = 'apartment'\n",
    "df2[['id', 'bedrooms', 'dormitory_type']].sample(5)"
   ]
  },
  {
   "cell_type": "markdown",
   "id": "a88340c1",
   "metadata": {},
   "source": [
    "### 2.2.3 Create a new column called \"condition_type\""
   ]
  },
  {
   "cell_type": "markdown",
   "id": "d31f3a4b",
   "metadata": {},
   "source": [
    "The mission is to classify the houses according their 'condition'. <br>\n",
    "Criteria:</br>\n",
    "<ul>\n",
    "    <li> If 'condition' <= 2                    -> 'bad'</li>\n",
    "    <li> If 'condition'  = 3 or 'condition' = 5 -> 'regular'</li>\n",
    "    <li> If 'condition' >= 5                    -> 'good'</li>\n",
    "</ul>"
   ]
  },
  {
   "cell_type": "code",
   "execution_count": 26,
   "id": "d3fba453",
   "metadata": {
    "ExecuteTime": {
     "end_time": "2021-12-18T18:50:54.571013Z",
     "start_time": "2021-12-18T18:50:54.562340Z"
    },
    "scrolled": true
   },
   "outputs": [
    {
     "data": {
      "text/html": [
       "<div>\n",
       "<style scoped>\n",
       "    .dataframe tbody tr th:only-of-type {\n",
       "        vertical-align: middle;\n",
       "    }\n",
       "\n",
       "    .dataframe tbody tr th {\n",
       "        vertical-align: top;\n",
       "    }\n",
       "\n",
       "    .dataframe thead th {\n",
       "        text-align: right;\n",
       "    }\n",
       "</style>\n",
       "<table border=\"1\" class=\"dataframe\">\n",
       "  <thead>\n",
       "    <tr style=\"text-align: right;\">\n",
       "      <th></th>\n",
       "      <th>condition</th>\n",
       "      <th>condition_type</th>\n",
       "    </tr>\n",
       "  </thead>\n",
       "  <tbody>\n",
       "    <tr>\n",
       "      <th>15752</th>\n",
       "      <td>3</td>\n",
       "      <td>regular</td>\n",
       "    </tr>\n",
       "    <tr>\n",
       "      <th>14916</th>\n",
       "      <td>3</td>\n",
       "      <td>regular</td>\n",
       "    </tr>\n",
       "    <tr>\n",
       "      <th>209</th>\n",
       "      <td>3</td>\n",
       "      <td>regular</td>\n",
       "    </tr>\n",
       "    <tr>\n",
       "      <th>4365</th>\n",
       "      <td>4</td>\n",
       "      <td>regular</td>\n",
       "    </tr>\n",
       "    <tr>\n",
       "      <th>21208</th>\n",
       "      <td>3</td>\n",
       "      <td>regular</td>\n",
       "    </tr>\n",
       "    <tr>\n",
       "      <th>17002</th>\n",
       "      <td>3</td>\n",
       "      <td>regular</td>\n",
       "    </tr>\n",
       "    <tr>\n",
       "      <th>1613</th>\n",
       "      <td>3</td>\n",
       "      <td>regular</td>\n",
       "    </tr>\n",
       "    <tr>\n",
       "      <th>11751</th>\n",
       "      <td>3</td>\n",
       "      <td>regular</td>\n",
       "    </tr>\n",
       "    <tr>\n",
       "      <th>17882</th>\n",
       "      <td>3</td>\n",
       "      <td>regular</td>\n",
       "    </tr>\n",
       "    <tr>\n",
       "      <th>11494</th>\n",
       "      <td>3</td>\n",
       "      <td>regular</td>\n",
       "    </tr>\n",
       "  </tbody>\n",
       "</table>\n",
       "</div>"
      ],
      "text/plain": [
       "       condition condition_type\n",
       "15752          3        regular\n",
       "14916          3        regular\n",
       "209            3        regular\n",
       "4365           4        regular\n",
       "21208          3        regular\n",
       "17002          3        regular\n",
       "1613           3        regular\n",
       "11751          3        regular\n",
       "17882          3        regular\n",
       "11494          3        regular"
      ]
     },
     "execution_count": 26,
     "metadata": {},
     "output_type": "execute_result"
    }
   ],
   "source": [
    "#First, guarantee we are dealing with integers here.\n",
    "df2['condition'] = df2['condition'].astype(int)\n",
    "\n",
    "#Here I will use a lambda function to assess the lines.\n",
    "df2['condition_type']  = df2['condition'].apply(lambda x: 'bad' if x <= 2 \n",
    "                                                                else 'regular' if ((x >= 3) & (x <= 4))\n",
    "                                                                else 'good')\n",
    "\n",
    "df2[['condition', 'condition_type']].sample(10)"
   ]
  },
  {
   "cell_type": "markdown",
   "id": "26f1a947",
   "metadata": {},
   "source": [
    "### 2.2.4 Modify the dtype of 'condition' to STRING"
   ]
  },
  {
   "cell_type": "code",
   "execution_count": 27,
   "id": "d78a0f95",
   "metadata": {
    "ExecuteTime": {
     "end_time": "2021-12-18T18:50:54.574559Z",
     "start_time": "2021-12-18T18:50:54.571720Z"
    }
   },
   "outputs": [
    {
     "data": {
      "text/plain": [
       "id           object\n",
       "condition     int64\n",
       "dtype: object"
      ]
     },
     "execution_count": 27,
     "metadata": {},
     "output_type": "execute_result"
    }
   ],
   "source": [
    "#So, as per the last exercise, the column is a int\n",
    "df2[['id', 'condition']].dtypes"
   ]
  },
  {
   "cell_type": "code",
   "execution_count": 28,
   "id": "99b9a596",
   "metadata": {
    "ExecuteTime": {
     "end_time": "2021-12-18T18:50:54.583375Z",
     "start_time": "2021-12-18T18:50:54.575182Z"
    }
   },
   "outputs": [],
   "source": [
    "#I will use astype to change it to str\n",
    "df2['condition'] = df2['condition'].astype(str)"
   ]
  },
  {
   "cell_type": "code",
   "execution_count": 29,
   "id": "18c4709f",
   "metadata": {
    "ExecuteTime": {
     "end_time": "2021-12-18T18:50:54.589813Z",
     "start_time": "2021-12-18T18:50:54.584140Z"
    },
    "scrolled": true
   },
   "outputs": [
    {
     "data": {
      "text/plain": [
       "id           object\n",
       "condition    object\n",
       "dtype: object"
      ]
     },
     "execution_count": 29,
     "metadata": {},
     "output_type": "execute_result"
    }
   ],
   "source": [
    "#Checking, and it is ok\n",
    "df2[['id', 'condition']].dtypes"
   ]
  },
  {
   "cell_type": "markdown",
   "id": "0e1fbebb",
   "metadata": {},
   "source": [
    "### 2.2.5 Delete the following columns: \"sqft_living15\" and \"sqft_lot15\""
   ]
  },
  {
   "cell_type": "code",
   "execution_count": 30,
   "id": "20b3dc06",
   "metadata": {
    "ExecuteTime": {
     "end_time": "2021-12-18T18:50:54.595794Z",
     "start_time": "2021-12-18T18:50:54.590482Z"
    }
   },
   "outputs": [],
   "source": [
    "#Here we will simply drop the columns using drop\n",
    "df2 = df2.drop( ['sqft_living15', 'sqft_lot15'], axis=1 )"
   ]
  },
  {
   "cell_type": "markdown",
   "id": "307acfab",
   "metadata": {
    "ExecuteTime": {
     "end_time": "2021-12-18T18:35:09.757733Z",
     "start_time": "2021-12-18T18:35:09.747250Z"
    }
   },
   "source": [
    "### 2.2.6 Change the data type of 'yr_built' to DATE"
   ]
  },
  {
   "cell_type": "code",
   "execution_count": 31,
   "id": "f9f178de",
   "metadata": {
    "ExecuteTime": {
     "end_time": "2021-12-18T18:50:54.600258Z",
     "start_time": "2021-12-18T18:50:54.596527Z"
    }
   },
   "outputs": [],
   "source": [
    "# Here I will use the to_datetime method from pandas to format the year.\n",
    "df2['yr_built'] = pd.to_datetime( df2['yr_built'], format='%Y' )"
   ]
  },
  {
   "cell_type": "markdown",
   "id": "5a445444",
   "metadata": {
    "ExecuteTime": {
     "end_time": "2021-12-18T18:35:28.545130Z",
     "start_time": "2021-12-18T18:35:28.540010Z"
    }
   },
   "source": [
    "### 2.2.7 Change the data type of 'yr_renovated' to DATE"
   ]
  },
  {
   "cell_type": "code",
   "execution_count": 32,
   "id": "4f7b655d",
   "metadata": {
    "ExecuteTime": {
     "end_time": "2021-12-18T18:50:54.606502Z",
     "start_time": "2021-12-18T18:50:54.600862Z"
    }
   },
   "outputs": [
    {
     "name": "stdout",
     "output_type": "stream",
     "text": [
      "There are 20699 houses that dont have a renovation date\n"
     ]
    }
   ],
   "source": [
    "# It is important to notice that there is a chance that the house may have never been renovated.\n",
    "not_renovated_check = df2[df2['yr_renovated'] == 0].shape[0]\n",
    "print ('There are {} houses that dont have a renovation date'.format(not_renovated_check))"
   ]
  },
  {
   "cell_type": "code",
   "execution_count": 33,
   "id": "ba53a517",
   "metadata": {
    "ExecuteTime": {
     "end_time": "2021-12-18T18:50:54.609757Z",
     "start_time": "2021-12-18T18:50:54.607260Z"
    }
   },
   "outputs": [
    {
     "name": "stdout",
     "output_type": "stream",
     "text": [
      "The earliest renovation was on 1934.\n"
     ]
    }
   ],
   "source": [
    "# At first, let's see what is the earliest renovation date is.\n",
    "renovated_only = df2[df2['yr_renovated'] != 0].yr_renovated.min()\n",
    "print('The earliest renovation was on {}.'.format(renovated_only))"
   ]
  },
  {
   "cell_type": "code",
   "execution_count": 34,
   "id": "d0e9e914",
   "metadata": {
    "ExecuteTime": {
     "end_time": "2021-12-18T18:50:54.612803Z",
     "start_time": "2021-12-18T18:50:54.610332Z"
    }
   },
   "outputs": [
    {
     "name": "stdout",
     "output_type": "stream",
     "text": [
      "The earliest build date is 1900-01-01 00:00:00.\n"
     ]
    }
   ],
   "source": [
    "# But, there where houses built before this date.\n",
    "min_yr_built = df2.yr_built.min()\n",
    "min_yr_built\n",
    "\n",
    "print('The earliest build date is {}.'.format(min_yr_built))"
   ]
  },
  {
   "cell_type": "markdown",
   "id": "9572b7e4",
   "metadata": {},
   "source": [
    "## 2.2 Create bars graph for the sum of prices by number of bedrooms"
   ]
  },
  {
   "cell_type": "code",
   "execution_count": null,
   "id": "f3202508",
   "metadata": {
    "ExecuteTime": {
     "end_time": "2021-12-18T18:50:54.694299Z",
     "start_time": "2021-12-18T18:50:54.694294Z"
    }
   },
   "outputs": [],
   "source": [
    "#The first mission is to group the places by the number os bedrooms. Then, I sum them and plot in a graph.\n",
    "rooms_grouped = df1['price'].groupby(df1['bedrooms']).sum().reset_index()\n",
    "#Adjust figure size to a better view\n",
    "plt.figure(figsize = (15,5))\n",
    "ax = plt.bar(rooms_grouped['bedrooms'], rooms_grouped['price'] )\n",
    "ax"
   ]
  },
  {
   "cell_type": "markdown",
   "id": "9c41c733",
   "metadata": {},
   "source": [
    "## 2.3 Create bars graph for average price by built year"
   ]
  },
  {
   "cell_type": "code",
   "execution_count": null,
   "id": "8f86a001",
   "metadata": {
    "ExecuteTime": {
     "end_time": "2021-12-18T18:50:54.694910Z",
     "start_time": "2021-12-18T18:50:54.694905Z"
    }
   },
   "outputs": [],
   "source": [
    "#Same logic as the previous exercise\n",
    "yr_built_grouped = df1['price'].groupby(df1['yr_built']).mean().reset_index()\n",
    "#Adjust figure size to a better view\n",
    "plt.figure(figsize = (15,5))\n",
    "ax = plt.bar(yr_built_grouped['yr_built'], yr_built_grouped['price'])\n",
    "ax"
   ]
  },
  {
   "cell_type": "markdown",
   "id": "1349ee35",
   "metadata": {},
   "source": [
    "## 2.4 Create bars graph for average price by dormitory type"
   ]
  },
  {
   "cell_type": "code",
   "execution_count": null,
   "id": "51c92307",
   "metadata": {
    "ExecuteTime": {
     "end_time": "2021-12-18T18:50:54.695404Z",
     "start_time": "2021-12-18T18:50:54.695396Z"
    }
   },
   "outputs": [],
   "source": [
    "dorm_type_grouped = df1['price'].groupby(df1['dormitory_type']).mean().reset_index()\n",
    "ax = plt.bar(dorm_type_grouped['dormitory_type'], dorm_type_grouped['price'] )\n",
    "ax"
   ]
  },
  {
   "cell_type": "markdown",
   "id": "e8d236aa",
   "metadata": {},
   "source": [
    "## 2.5 Create lines graph showing the evolution of the avg of prices by the year renovated since 1930"
   ]
  },
  {
   "cell_type": "code",
   "execution_count": null,
   "id": "182f4077",
   "metadata": {
    "ExecuteTime": {
     "end_time": "2021-12-18T18:50:54.695797Z",
     "start_time": "2021-12-18T18:50:54.695792Z"
    }
   },
   "outputs": [],
   "source": [
    "yr_renov_group = df1['price'].groupby(df1['yr_renovated']).mean().reset_index()\n",
    "yr_renov_group = yr_renov_group.loc[yr_renov_group['yr_renovated']>=1930, :]\n",
    "plt.figure(figsize = (20,15))\n",
    "gr5 = plt.plot(yr_renov_group['yr_renovated'], yr_renov_group['price'])\n",
    "gr5"
   ]
  },
  {
   "cell_type": "markdown",
   "id": "79f351dd",
   "metadata": {
    "ExecuteTime": {
     "end_time": "2021-10-19T10:55:06.743742Z",
     "start_time": "2021-10-19T10:55:06.737979Z"
    }
   },
   "source": [
    "## 2.6 Create a table showing the avg price per yr build and dormitory type"
   ]
  },
  {
   "cell_type": "code",
   "execution_count": null,
   "id": "cc9e85fa",
   "metadata": {
    "ExecuteTime": {
     "end_time": "2021-12-18T18:50:54.696114Z",
     "start_time": "2021-12-18T18:50:54.696110Z"
    }
   },
   "outputs": [],
   "source": [
    "#Simply grouping \n",
    "tb = df1[['price', 'yr_built', 'dormitory_type']].groupby(['yr_built', 'dormitory_type']).mean()\n",
    "tb"
   ]
  },
  {
   "cell_type": "markdown",
   "id": "6a8551f6",
   "metadata": {},
   "source": [
    "## 2.7 Create a Dashboard with Q2, Q3 and Q4 1 row 2 columns"
   ]
  },
  {
   "cell_type": "code",
   "execution_count": null,
   "id": "af0fc0da",
   "metadata": {
    "ExecuteTime": {
     "end_time": "2021-12-18T18:50:54.696725Z",
     "start_time": "2021-12-18T18:50:54.696721Z"
    }
   },
   "outputs": [],
   "source": [
    "fig = plt.figure(figsize = (20,5)) #define the size of the plot\n",
    "specs = gridspec.GridSpec(ncols = 3, nrows = 1, figure = fig) #set the specs for the plot, number of columns and rows, and apply the figure setting\n",
    "\n",
    "ax1 = fig.add_subplot(specs[0, 0]) #First row, whole row\n",
    "ax2 = fig.add_subplot(specs[0, 1]) #Second row first column\n",
    "ax3 = fig.add_subplot(specs[0, 2]) #Second row first column\n",
    "\n",
    "ax1.bar(rooms_grouped['bedrooms'], rooms_grouped['price'] )\n",
    "ax2.bar(yr_built_grouped['yr_built'], yr_built_grouped['price'])\n",
    "ax3.bar(dorm_type_grouped['dormitory_type'], dorm_type_grouped['price'])\n",
    "\n"
   ]
  },
  {
   "cell_type": "markdown",
   "id": "bb33abce",
   "metadata": {},
   "source": [
    "## 2.8 Create a Dashboard with Q2 and Q4 2 columns"
   ]
  },
  {
   "cell_type": "code",
   "execution_count": null,
   "id": "88fc0ded",
   "metadata": {
    "ExecuteTime": {
     "end_time": "2021-12-18T18:50:54.697503Z",
     "start_time": "2021-12-18T18:50:54.697479Z"
    }
   },
   "outputs": [],
   "source": [
    "fig = plt.figure(figsize = (20,5))\n",
    "specs = gridspec.GridSpec(ncols = 2, nrows = 1, figure = fig)\n",
    "\n",
    "ax1 = fig.add_subplot(specs[0, 0])\n",
    "ax2 = fig.add_subplot(specs[0, 1])\n",
    "\n",
    "\n",
    "ax1.bar(rooms_grouped['bedrooms'], rooms_grouped['price'] )\n",
    "ax2.bar(dorm_type_grouped['dormitory_type'], dorm_type_grouped['price'] )"
   ]
  },
  {
   "cell_type": "markdown",
   "id": "f6f269b9",
   "metadata": {
    "ExecuteTime": {
     "end_time": "2021-10-20T09:21:58.296045Z",
     "start_time": "2021-10-20T09:21:58.293291Z"
    },
    "heading_collapsed": true
   },
   "source": [
    "## 2.9 Create a Dashboard with Q3 and Q5 2 rows"
   ]
  },
  {
   "cell_type": "code",
   "execution_count": null,
   "id": "f9a89648",
   "metadata": {
    "ExecuteTime": {
     "end_time": "2021-12-18T18:50:54.698006Z",
     "start_time": "2021-12-18T18:50:54.698001Z"
    },
    "hidden": true
   },
   "outputs": [],
   "source": [
    "fig = plt.figure(figsize = (20,5))\n",
    "specs = gridspec.GridSpec(nrows = 2, ncols = 1, figure = fig)\n",
    "\n",
    "ax1 = fig.add_subplot(specs[0, 0])\n",
    "ax2 = fig.add_subplot(specs[1, 0])\n",
    "\n",
    "ax1.plot(yr_renov_group['yr_renovated'], yr_renov_group['price'])\n",
    "ax2.bar(yr_built_grouped['yr_built'], yr_built_grouped['price'])\n"
   ]
  },
  {
   "cell_type": "markdown",
   "id": "63065e17",
   "metadata": {
    "heading_collapsed": true
   },
   "source": [
    "## 2.10 Create a map where the size of the points are the number of bedrooms"
   ]
  },
  {
   "cell_type": "code",
   "execution_count": null,
   "id": "e4cb9a5b",
   "metadata": {
    "ExecuteTime": {
     "end_time": "2021-12-18T18:50:54.698561Z",
     "start_time": "2021-12-18T18:50:54.698555Z"
    },
    "hidden": true
   },
   "outputs": [],
   "source": [
    "df1.columns"
   ]
  },
  {
   "cell_type": "code",
   "execution_count": null,
   "id": "e678d9eb",
   "metadata": {
    "ExecuteTime": {
     "end_time": "2021-12-18T18:50:54.699037Z",
     "start_time": "2021-12-18T18:50:54.699033Z"
    },
    "hidden": true
   },
   "outputs": [],
   "source": [
    "houses = df1[['id', 'lat', 'long', 'bedrooms']] #create a more simple dataframe for this\n",
    "fig = px.scatter_mapbox (houses, #inclui o dataframe\n",
    "                          lat = 'lat',\n",
    "                          lon = 'long',\n",
    "                          size = 'bedrooms',\n",
    "                          color_continuous_scale = px.colors.cyclical.IceFire,\n",
    "                          size_max = 20,\n",
    "                          zoom = 10)\n",
    "\n",
    "fig.update_layout(mapbox_style = 'open-street-map')\n",
    "fig.update_layout(height = 600)"
   ]
  },
  {
   "cell_type": "markdown",
   "id": "b0b6e0de",
   "metadata": {},
   "source": [
    "# 3 Control Structures"
   ]
  },
  {
   "cell_type": "markdown",
   "id": "8397c9ce",
   "metadata": {
    "heading_collapsed": true
   },
   "source": [
    "## 3.0 Checkpoint"
   ]
  },
  {
   "cell_type": "code",
   "execution_count": null,
   "id": "99465316",
   "metadata": {
    "ExecuteTime": {
     "end_time": "2021-12-18T18:50:54.699430Z",
     "start_time": "2021-12-18T18:50:54.699424Z"
    },
    "hidden": true
   },
   "outputs": [],
   "source": [
    "df2 = pd.read_csv( 'kc_house_data.csv' )"
   ]
  },
  {
   "cell_type": "code",
   "execution_count": null,
   "id": "92bb008d",
   "metadata": {
    "ExecuteTime": {
     "end_time": "2021-12-18T18:50:54.699904Z",
     "start_time": "2021-12-18T18:50:54.699899Z"
    },
    "hidden": true
   },
   "outputs": [],
   "source": [
    "df2.columns"
   ]
  },
  {
   "cell_type": "markdown",
   "id": "fe2f68c4",
   "metadata": {
    "heading_collapsed": true
   },
   "source": [
    "## 3.1 Average price per level\n",
    "#### Level 0: Price between 0 and 321.950\n",
    "#### Level 1: Price between 321.950 and 450.000\n",
    "#### Level 2: Price between  450.000 and 645.000\n",
    "#### Level 3: Price over 654.000"
   ]
  },
  {
   "cell_type": "code",
   "execution_count": null,
   "id": "c8e13c37",
   "metadata": {
    "ExecuteTime": {
     "end_time": "2021-12-18T18:50:54.700971Z",
     "start_time": "2021-12-18T18:50:54.700966Z"
    },
    "hidden": true
   },
   "outputs": [],
   "source": [
    "df2['price_level'] = 0\n",
    "# primeiro vou montar as condicoes \n",
    "#agora vou juntar essas condicões, lembrando dos parenteses\n",
    "#agora eu vou pegar as linhas com essa condicão (copiar e colar o de cima), para a coluna 'price_level'\n",
    "df2.loc[((df2['price'] >= 0) & (df2['price'] < 321950)), 'price_level'] = 'level_0'\n",
    "df2.loc[((df2['price'] >= 321950) & (df2['price'] < 450000)), 'price_level'] = 'level_1'\n",
    "df2.loc[((df2['price'] >= 450000) & (df2['price'] < 645000)), 'price_level'] = 'level_2'\n",
    "df2.loc[((df2['price'] >= 645000)), 'price_level'] = 'level_3'\n",
    "\n"
   ]
  },
  {
   "cell_type": "code",
   "execution_count": null,
   "id": "cfd68f90",
   "metadata": {
    "ExecuteTime": {
     "end_time": "2021-12-18T18:50:54.701729Z",
     "start_time": "2021-12-18T18:50:54.701722Z"
    },
    "hidden": true
   },
   "outputs": [],
   "source": [
    "df2.sample(20)"
   ]
  },
  {
   "cell_type": "code",
   "execution_count": null,
   "id": "627a5fd3",
   "metadata": {
    "ExecuteTime": {
     "end_time": "2021-12-18T18:50:54.702507Z",
     "start_time": "2021-12-18T18:50:54.702503Z"
    },
    "hidden": true
   },
   "outputs": [],
   "source": [
    "aux = df2.groupby('price_level').mean().sort_values(by='price', ascending = False).reset_index()\n",
    "aux[['price_level', 'price']]"
   ]
  },
  {
   "cell_type": "markdown",
   "id": "dd33a612",
   "metadata": {
    "heading_collapsed": true
   },
   "source": [
    "## 3.2 Average living room size, per Size categories\n",
    "#### Size 0: Size between 0 and 1.427 sqft\n",
    "#### Size 1: Size between 1.427 and 1.910 sqft\n",
    "#### Size 2: Size between  1.910 and 2.550 sqft\n",
    "#### Size 3: Size over 2.550 sqft"
   ]
  },
  {
   "cell_type": "code",
   "execution_count": null,
   "id": "cc8ffebf",
   "metadata": {
    "ExecuteTime": {
     "end_time": "2021-12-18T18:50:54.703039Z",
     "start_time": "2021-12-18T18:50:54.703034Z"
    },
    "hidden": true
   },
   "outputs": [],
   "source": [
    "df2 = pd.read_csv( 'kc_house_data.csv' )\n",
    "df2.dtypes"
   ]
  },
  {
   "cell_type": "code",
   "execution_count": null,
   "id": "08fc0ae2",
   "metadata": {
    "ExecuteTime": {
     "end_time": "2021-12-18T18:50:54.703493Z",
     "start_time": "2021-12-18T18:50:54.703488Z"
    },
    "hidden": true
   },
   "outputs": [],
   "source": [
    "df2['living_size'] = 0\n",
    "for i in range(len(df2)):\n",
    "    if (df2.loc[i, 'sqft_living'] > 0 ) & (df2.loc[i, 'sqft_living'] < 1427):\n",
    "        df2.loc[i, 'living_size'] = 'size_0'  \n",
    "            \n",
    "    elif ((df2.loc[i, 'sqft_living'] >=1427) & (df2.loc[i, 'sqft_living'] < 1910)):\n",
    "        df2.loc[i, 'living_size'] = 'size_1'      \n",
    "    \n",
    "    elif ((df2.loc[i, 'sqft_living'] >=1910) & (df2.loc[i, 'sqft_living'] < 2550)):\n",
    "        df2.loc[i, 'living_size'] = 'size_2'            \n",
    "    \n",
    "    else:      \n",
    "        df2.loc[i, 'living_size'] = 'size_3'            \n",
    "    "
   ]
  },
  {
   "cell_type": "code",
   "execution_count": null,
   "id": "64d0fcde",
   "metadata": {
    "ExecuteTime": {
     "end_time": "2021-12-18T18:50:54.703962Z",
     "start_time": "2021-12-18T18:50:54.703958Z"
    },
    "hidden": true
   },
   "outputs": [],
   "source": [
    "df2.shape"
   ]
  },
  {
   "cell_type": "code",
   "execution_count": null,
   "id": "c19cbb3a",
   "metadata": {
    "hidden": true
   },
   "outputs": [],
   "source": []
  },
  {
   "cell_type": "markdown",
   "id": "b84917d4",
   "metadata": {
    "heading_collapsed": true
   },
   "source": [
    "## 3.3 Add the following information in the original dataset\n",
    "#### Place ID\n",
    "#### OSM Type (Open Street Map Type)\n",
    "#### Country\n",
    "#### Country Code"
   ]
  },
  {
   "cell_type": "code",
   "execution_count": null,
   "id": "bf28c3e0",
   "metadata": {
    "ExecuteTime": {
     "end_time": "2021-12-18T18:50:54.704247Z",
     "start_time": "2021-12-18T18:50:54.704242Z"
    },
    "hidden": true
   },
   "outputs": [],
   "source": [
    "from geopy.geocoders import Nominatim\n",
    "\n",
    "#Initialize Nominatim API\n",
    "\n",
    "geolocator = Nominatim(user_agent = 'testing_my_model_please_let_me')\n",
    "\n",
    "#Create empty rows\n",
    "\n",
    "df2['Place_ID'] = 'NA'\n",
    "df2['OSM_Type'] = 'NA'\n",
    "df2['Country'] = 'NA'\n",
    "df2['Country_code'] = 'NA'\n",
    "\n",
    "#so, for the dataframe, I will run row by row \n",
    "#Because this is just a training, I will do only the first 20 rows\n",
    "\n",
    "for i in range(20):\n",
    "    \n",
    "    #have to ask the API for the data using lat and lon infos\n",
    "    #This data is in df2.loc[i, 'lat'] and df2.loc[i, 'long']\n",
    "    #And need to concatenate these\n",
    "    latlong = str(df2.loc[i, 'lat']) +','+ str(df2.loc[i, 'long'])\n",
    "    #Then ask the API\n",
    "    response = geolocator.reverse(latlong).raw\n",
    "    #Get the raw data that contains the details such as PLACE_ID, OSM_Type, Country and Country_code\n",
    "    df2.loc[i, 'Place_ID']     = response['place_id']    \n",
    "    df2.loc[i, 'OSM_Type']     = response['osm_type']\n",
    "    df2.loc[i, 'Country']      = response['address']['country']\n",
    "    df2.loc[i, 'Country_code'] = response['address']['country_code']"
   ]
  },
  {
   "cell_type": "code",
   "execution_count": null,
   "id": "889df258",
   "metadata": {
    "ExecuteTime": {
     "end_time": "2021-12-18T18:50:54.704706Z",
     "start_time": "2021-12-18T18:50:54.704699Z"
    },
    "hidden": true
   },
   "outputs": [],
   "source": [
    "#save the new data\n",
    "df3 = df2.copy()"
   ]
  },
  {
   "cell_type": "code",
   "execution_count": null,
   "id": "6ebdbf91",
   "metadata": {
    "ExecuteTime": {
     "end_time": "2021-12-18T18:50:54.705210Z",
     "start_time": "2021-12-18T18:50:54.705205Z"
    },
    "hidden": true
   },
   "outputs": [],
   "source": [
    "df3.head(100)"
   ]
  },
  {
   "cell_type": "markdown",
   "id": "32792a16",
   "metadata": {
    "heading_collapsed": true
   },
   "source": [
    "## 3.4 Create a Map and add the following filters to it\n",
    "#### Minimum living area size\n",
    "#### Minimum number of bathrooms\n",
    "#### Max price \n",
    "#### Max basement size\n",
    "#### Filter house conditions\n",
    "#### Filter Year Built"
   ]
  },
  {
   "cell_type": "code",
   "execution_count": null,
   "id": "522e9182",
   "metadata": {
    "ExecuteTime": {
     "end_time": "2021-12-18T18:50:54.705702Z",
     "start_time": "2021-12-18T18:50:54.705697Z"
    },
    "hidden": true
   },
   "outputs": [],
   "source": [
    "    #Create the widgets\n",
    "\n",
    "    style = {'description_width':'initial'}\n",
    "\n",
    "    #House Conditions\n",
    "    f_house_conditions = widgets.Dropdown(options = df3['condition'].unique().tolist(),\n",
    "                                         value=1,\n",
    "                                         description='House Condition',\n",
    "                                         disable=False)\n",
    "\n",
    "    #Living Area Size\n",
    "    f_living_size = widgets.IntSlider(value = df3['sqft_living'].min(), \n",
    "                                    min = df3['sqft_living'].min(), \n",
    "                                    max = df3['sqft_living'].max(), \n",
    "                                    step = 1,\n",
    "                                    description = 'Max Living Size:',\n",
    "                                    disable = False, \n",
    "                                    style = style)\n",
    "    #Bathrooms\n",
    "    f_bathrooms = widgets.Dropdown(options = df3['bathrooms'].unique().tolist(), \n",
    "                                    min = df3['bathrooms'].min(), \n",
    "                                    max = df3['bathrooms'].max(), \n",
    "                                    description = 'Max Bathrooms:',\n",
    "                                    disable = False)\n",
    "\n",
    "    #Price\n",
    "    f_price = widgets.IntSlider(value = df3['price'].max(), \n",
    "                                    min = df3['price'].min(), \n",
    "                                    max = df3['price'].max(), \n",
    "                                    step = 1,\n",
    "                                    description = 'Max Price:',\n",
    "                                    disable = False, \n",
    "                                    style = style)\n",
    "\n",
    "    #Basement Size\n",
    "    f_basement_size = widgets.IntSlider(value = df3['sqft_basement'].max(), \n",
    "                                    min = df3['sqft_basement'].min(), \n",
    "                                    max = df3['sqft_basement'].max(), \n",
    "                                    step = 1,\n",
    "                                    description = 'Max Basement Size:',\n",
    "                                    disable = False, \n",
    "                                    style = style)\n",
    "\n",
    "    #Year_built\n",
    "    f_year_built = widgets.IntRangeSlider( value=[df3['yr_built'].min(), df3['yr_built'].max()],\n",
    "                                          min=df3['yr_built'].min(),\n",
    "                                          max=df3['yr_built'].max(),\n",
    "                                          step=1,\n",
    "                                          description='Year Built:',\n",
    "                                          disabled=False,\n",
    "                                          continuous_update=False,\n",
    "                                          orientation='horizontal',\n",
    "                                          readout=True,\n",
    "                                          readout_format='d'\n",
    "                                         )\n",
    "\n",
    "#Filter the Dataframe according to filter selection\n"
   ]
  },
  {
   "cell_type": "code",
   "execution_count": null,
   "id": "8b708012",
   "metadata": {
    "ExecuteTime": {
     "end_time": "2021-12-18T18:50:54.706090Z",
     "start_time": "2021-12-18T18:50:54.706086Z"
    },
    "hidden": true
   },
   "outputs": [],
   "source": [
    "f_year_built.min"
   ]
  },
  {
   "cell_type": "code",
   "execution_count": null,
   "id": "15828537",
   "metadata": {
    "ExecuteTime": {
     "end_time": "2021-12-18T18:50:54.706461Z",
     "start_time": "2021-12-18T18:50:54.706456Z"
    },
    "hidden": true
   },
   "outputs": [],
   "source": [
    "r = range(f_year_built.min, f_year_built.max)"
   ]
  },
  {
   "cell_type": "code",
   "execution_count": null,
   "id": "06c499b2",
   "metadata": {
    "ExecuteTime": {
     "end_time": "2021-12-18T18:50:54.706738Z",
     "start_time": "2021-12-18T18:50:54.706734Z"
    },
    "hidden": true
   },
   "outputs": [],
   "source": [
    "def update_map (df, house_conditions, living_size, bathrooms, price, basement_size):\n",
    "    houses = df[((df['condition'] == house_conditions) &\n",
    "                   (df['sqft_living'] <= living_size) &\n",
    "                   (df['bathrooms'] <= bathrooms) &\n",
    "                   (df['price'] <= price) &\n",
    "                   (df['sqft_basement'] <= basement_size) )]\n",
    "                   #(df['yr_built'] >= year_built.min) &\n",
    "                   #(df['yr_built'] <= year_built.max))]\n",
    "\n",
    "    fig = px.scatter_mapbox (houses, #inclui o dataframe\n",
    "                              lat = 'lat',\n",
    "                              lon = 'long',\n",
    "                              size = 'bedrooms',\n",
    "                              color_continuous_scale = px.colors.cyclical.IceFire,\n",
    "                              size_max = 20,\n",
    "                              zoom = 10)\n",
    "\n",
    "    fig.update_layout(mapbox_style = 'open-street-map')\n",
    "    fig.update_layout(height = 600)\n",
    "    fig.show()"
   ]
  },
  {
   "cell_type": "code",
   "execution_count": null,
   "id": "5d68e7b7",
   "metadata": {
    "hidden": true
   },
   "outputs": [],
   "source": []
  },
  {
   "cell_type": "code",
   "execution_count": null,
   "id": "0ea3b4af",
   "metadata": {
    "ExecuteTime": {
     "end_time": "2021-12-18T18:50:54.707181Z",
     "start_time": "2021-12-18T18:50:54.707177Z"
    },
    "hidden": true
   },
   "outputs": [],
   "source": [
    "widgets.interactive(update_map, df = fixed(data), \n",
    "                                bathrooms = f_bathrooms,\n",
    "                                house_conditions = f_house_conditions,\n",
    "                                living_size = f_living_size, \n",
    "                                price = f_price, \n",
    "                                basement_size = f_basement_size) \n",
    "                               #year_built = f_year_built) "
   ]
  },
  {
   "cell_type": "markdown",
   "id": "449698d5",
   "metadata": {},
   "source": [
    "## 3.5 Create a dashboard and add the following to it\n",
    "#### Filter per availability date\n",
    "#### Filter per year renovation\n",
    "#### Filter waterfront"
   ]
  },
  {
   "cell_type": "code",
   "execution_count": null,
   "id": "4ca9130a",
   "metadata": {
    "ExecuteTime": {
     "end_time": "2021-12-18T18:50:54.707635Z",
     "start_time": "2021-12-18T18:50:54.707631Z"
    }
   },
   "outputs": [],
   "source": [
    "df4 = df3.copy()"
   ]
  },
  {
   "cell_type": "code",
   "execution_count": null,
   "id": "91701c28",
   "metadata": {
    "ExecuteTime": {
     "end_time": "2021-12-18T18:50:54.708133Z",
     "start_time": "2021-12-18T18:50:54.708128Z"
    }
   },
   "outputs": [],
   "source": [
    "df4.columns"
   ]
  },
  {
   "cell_type": "code",
   "execution_count": null,
   "id": "bfdb9dc1",
   "metadata": {
    "ExecuteTime": {
     "end_time": "2021-12-18T18:50:54.708479Z",
     "start_time": "2021-12-18T18:50:54.708475Z"
    }
   },
   "outputs": [],
   "source": [
    "#create the widgets\n",
    "\n",
    "style = {'description_width':'initial'}\n",
    "\n",
    "f_yr_renov = widgets.IntSlider(value = df4['yr_renovated'].max(), \n",
    "                                    min = df4['yr_renovated'].min(), \n",
    "                                    max = df4['yr_renovated'].max(), \n",
    "                                    step = 1,\n",
    "                                    description = 'Year renovated:',\n",
    "                                    disable = False, \n",
    "                                    style = style)\n",
    "\n",
    "f_waterfront = widgets.Dropdown(options = df4['waterfront'].unique().tolist(),\n",
    "                                         value=1,\n",
    "                                         description='Waterfront:',\n",
    "                                         disable=False\n"
   ]
  },
  {
   "cell_type": "code",
   "execution_count": null,
   "id": "6a4e2cb6",
   "metadata": {
    "ExecuteTime": {
     "end_time": "2021-12-18T18:50:54.708790Z",
     "start_time": "2021-12-18T18:50:54.708785Z"
    }
   },
   "outputs": [],
   "source": [
    "def update_dash_1(df, yr_renovated, waterfront):\n",
    "\n",
    "    #filter the data\n",
    "    \n",
    "    df = df[df['yr_renovated'] <= yr_renovated]\n",
    "    df = df[df['waterfront'] == waterfront]    \n",
    "    \n",
    "    \n",
    "    \n",
    "    #print the dashboard\n",
    "    fig = plt.figure(figsize = (20,5)) #define the size of the plot\n",
    "    specs = gridspec.GridSpec(ncols = 3, nrows = 1, figure = fig) #set the specs for the plot, number of columns and rows, and apply the figure setting\n",
    "    ax1 = fig.add_subplot(specs[0, 0]) #First row, whole row\n",
    "    ax2 = fig.add_subplot(specs[0, 1]) #Second row first column\n",
    "    ax3 = fig.add_subplot(specs[0, 2]) #Second row first column\n",
    "    ax1.bar(rooms_grouped['bedrooms'], rooms_grouped['price'] )\n",
    "    ax2.bar(yr_built_grouped['yr_built'], yr_built_grouped['price'])\n",
    "    ax3.bar(dorm_type_grouped['dormitory_type'], dorm_type_grouped['price'])\n"
   ]
  },
  {
   "cell_type": "code",
   "execution_count": null,
   "id": "65393775",
   "metadata": {
    "ExecuteTime": {
     "end_time": "2021-12-18T18:50:54.709132Z",
     "start_time": "2021-12-18T18:50:54.709120Z"
    }
   },
   "outputs": [],
   "source": [
    "def update_dash_1(df, yr_renovated, waterfront):\n",
    "\n",
    "    #filter the data\n",
    "    \n",
    "    df = df[df['yr_renovated'] <= yr_renovated]\n",
    "    df = df[df['waterfront'] == waterfront]    \n",
    "    \n",
    "    \n",
    "    \n",
    "    #print the dashboard\n",
    "    fig = plt.figure(figsize = (20,5)) #define the size of the plot\n",
    "    specs = gridspec.GridSpec(ncols = 3, nrows = 1, figure = fig) #set the specs for the plot, number of columns and rows, and apply the figure setting\n",
    "    ax1 = fig.add_subplot(specs[0, 0]) #First row, whole row\n",
    "    ax2 = fig.add_subplot(specs[0, 1]) #Second row first column\n",
    "    ax3 = fig.add_subplot(specs[0, 2]) #Second row first column\n",
    "    ax1.bar(rooms_grouped['bedrooms'], rooms_grouped['price'] )\n",
    "    ax2.bar(yr_built_grouped['yr_built'], yr_built_grouped['price'])\n",
    "    ax3.bar(dorm_type_grouped['dormitory_type'], dorm_type_grouped['price'])\n"
   ]
  },
  {
   "cell_type": "code",
   "execution_count": null,
   "id": "c8e74b48",
   "metadata": {
    "ExecuteTime": {
     "end_time": "2021-12-18T18:50:54.709542Z",
     "start_time": "2021-12-18T18:50:54.709538Z"
    }
   },
   "outputs": [],
   "source": [
    "widgets.interactive(update_dash_1, df = fixed(df4), \n",
    "                                avail_date = f_avail_date,\n",
    "                                yr_renovated = f_yr_renov,\n",
    "                                waterfront = f_waterfront)\n"
   ]
  },
  {
   "cell_type": "code",
   "execution_count": null,
   "id": "3f248d49",
   "metadata": {},
   "outputs": [],
   "source": []
  },
  {
   "cell_type": "code",
   "execution_count": null,
   "id": "ffd72824",
   "metadata": {},
   "outputs": [],
   "source": []
  }
 ],
 "metadata": {
  "kernelspec": {
   "display_name": "Python 3 (ipykernel)",
   "language": "python",
   "name": "python3"
  },
  "language_info": {
   "codemirror_mode": {
    "name": "ipython",
    "version": 3
   },
   "file_extension": ".py",
   "mimetype": "text/x-python",
   "name": "python",
   "nbconvert_exporter": "python",
   "pygments_lexer": "ipython3",
   "version": "3.9.7"
  }
 },
 "nbformat": 4,
 "nbformat_minor": 5
}
